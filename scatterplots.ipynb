{
 "cells": [
  {
   "cell_type": "code",
   "execution_count": 1,
   "metadata": {},
   "outputs": [],
   "source": [
    "%matplotlib tk\n",
    "import pandas as pd\n",
    "import geopandas as gpd\n",
    "import matplotlib.pyplot as plt\n",
    "from io import StringIO\n",
    "import requests\n",
    "import matplotlib as mpl"
   ]
  },
  {
   "cell_type": "code",
   "execution_count": 2,
   "metadata": {},
   "outputs": [],
   "source": [
    "WISC_2020_TWO_PARTY_VOTE = 0.006381\n",
    "WISC_2022_TWO_PARTY_VOTE = 0.034347\n",
    "\n",
    "SIGNATURE = 'By Will Bradley, 2023'"
   ]
  },
  {
   "cell_type": "code",
   "execution_count": 3,
   "metadata": {},
   "outputs": [],
   "source": [
    "# Galen Metzger suggested using 2022 ballots returned to normalize instead of voter registration\n",
    "ballots_2022_df = pd.read_csv('AbsenteeCounts_Muni__25.csv', index_col='HINDI', usecols=['BallotsReturned', 'HINDI'])\\\n",
    "    .rename(columns={'BallotsReturned': 'BallotsReturned2022'})\\\n",
    "    .drop(99999) # TOTAL column\n",
    "\n",
    "gdf = gpd.read_file('WI_Cities%2C_Towns_and_Villages_(January_2023)') # https://data-ltsb.opendata.arcgis.com/datasets/2d13492a59a24dd0ba990abf1f86800f_0/explore?location=43.322926%2C-89.269110%2C8.58"
   ]
  },
  {
   "cell_type": "code",
   "execution_count": 4,
   "metadata": {},
   "outputs": [],
   "source": [
    "results_20 = pd.read_csv('WISC_PRES_2020_by_jurisdiction.csv')\n",
    "results_22 = pd.read_csv('WISC_GOV_2022_by_jurisdiction.csv')"
   ]
  },
  {
   "cell_type": "code",
   "execution_count": 5,
   "metadata": {},
   "outputs": [],
   "source": [
    "EARLY_VOTE_URL = 'https://elections.wi.gov/sites/default/files/documents/AbsenteeCounts_Muni_2023%20Spring%20Election_11.csv'"
   ]
  },
  {
   "cell_type": "code",
   "execution_count": 6,
   "metadata": {},
   "outputs": [],
   "source": [
    "results = pd.merge(results_20, results_22, on=['county', 'ctv', 'jurisdiction'], suffixes=['_20', '_22'])"
   ]
  },
  {
   "cell_type": "code",
   "execution_count": 7,
   "metadata": {},
   "outputs": [],
   "source": [
    "ballots_df = pd.read_csv(StringIO(requests.get(EARLY_VOTE_URL).text))\n",
    "voting_merged_df = pd.merge(ballots_df, ballots_2022_df, on='HINDI')\n",
    "voting_merged_df['HINDI'] = voting_merged_df['HINDI'].apply(lambda n: str(n).zfill(5))\n",
    "\n",
    "merged = gdf.merge(voting_merged_df, left_on='DOA', right_on='HINDI', how='left')\n",
    "merged.set_index('GEOID', drop=True, inplace=True)\n",
    "\n",
    "merged['returned_rate'] = merged['BallotsReturned'] / merged['BallotsReturned2022']"
   ]
  },
  {
   "cell_type": "code",
   "execution_count": 8,
   "metadata": {},
   "outputs": [],
   "source": [
    "merged['CNTY_NAME'] = merged['CNTY_NAME'].str.upper()\n",
    "merged['MCD_NAME'] = merged['MCD_NAME'].str.title()\n",
    "merged['CTV'] = merged['CTV'].str.upper()"
   ]
  },
  {
   "cell_type": "code",
   "execution_count": 9,
   "metadata": {},
   "outputs": [],
   "source": [
    "merged_with_results = pd.merge(merged, results, left_on=['CNTY_NAME', 'MCD_NAME', 'CTV'], right_on=['county', 'jurisdiction', 'ctv'])\n",
    "#merged_with_results = merged_with_results[merged_with_results['BallotsReturned'] >= 100]\n",
    "#merged_with_results['ballots_in'] = merged_with_results['BallotsReturned'] / merged_with_results['BallotsSent']\n",
    "\n",
    "def _compute_margin(d: pd.Series, r: pd.Series) -> pd.Series:\n",
    "    return (d - r) / (d + r)\n",
    "\n",
    "merged_with_results['D_margin_20'] = _compute_margin(merged_with_results['DEM_20'], merged_with_results['REP_20'])\n",
    "merged_with_results['D_margin_22'] = _compute_margin(merged_with_results['DEM_22'], merged_with_results['REP_22'])\n",
    "merged_with_results['D_vote_margin_20'] = merged_with_results['DEM_20'] - merged_with_results['REP_20']\n",
    "merged_with_results['D_vote_margin_22'] = merged_with_results['DEM_22'] - merged_with_results['REP_22']"
   ]
  },
  {
   "cell_type": "code",
   "execution_count": 10,
   "metadata": {},
   "outputs": [
    {
     "data": {
      "text/plain": [
       "0.47594057270592766"
      ]
     },
     "execution_count": 10,
     "metadata": {},
     "output_type": "execute_result"
    }
   ],
   "source": [
    "statewide_return_rate = merged_with_results['BallotsReturned'].sum() / merged_with_results['BallotsReturned2022'].sum()\n",
    "statewide_return_rate"
   ]
  },
  {
   "cell_type": "code",
   "execution_count": 11,
   "metadata": {},
   "outputs": [],
   "source": [
    "CMAP = mpl.colors.LinearSegmentedColormap.from_list(\"political\", [\"red\",\"purple\",\"blue\"])"
   ]
  },
  {
   "cell_type": "code",
   "execution_count": 12,
   "metadata": {},
   "outputs": [],
   "source": [
    "plt.close('all')"
   ]
  },
  {
   "cell_type": "code",
   "execution_count": 13,
   "metadata": {},
   "outputs": [
    {
     "data": {
      "text/plain": [
       "Text(0.01, 0.3966171439216064, 'statewide return rate')"
      ]
     },
     "execution_count": 13,
     "metadata": {},
     "output_type": "execute_result"
    }
   ],
   "source": [
    "fig1, ax1 = plt.subplots()\n",
    "ax1.scatter(\n",
    "    merged_with_results['D_margin_22'] * 100,\n",
    "    merged_with_results['returned_rate'], \n",
    "    s=merged_with_results['BallotsReturned'] / 10,\n",
    "    alpha=0.35,\n",
    "    c=merged_with_results['D_margin_22'],\n",
    "    cmap=CMAP,\n",
    "    norm=mpl.colors.Normalize(-0.7, 0.7)\n",
    ")\n",
    "ax1.axhline(statewide_return_rate, color='red', lw=0.5)\n",
    "ax1.axvline(WISC_2022_TWO_PARTY_VOTE, color='black', lw=0.5)\n",
    "ax1.set_ylim(0, 1.2)\n",
    "ax1.set_xlabel('2022 governor Democratic margin, %')\n",
    "ax1.set_ylabel('Ballots returned / ballots returned the 2022 fall election')\n",
    "ax1.set_title('Return rate over 2022 Wisconsin governor result by municipality\\n(area proportonal to 2023 ballots returned)')\n",
    "ax1.text(0.01, statewide_return_rate / 1.2, 'statewide return rate', ha='left', va='bottom', transform=ax1.transAxes)"
   ]
  },
  {
   "cell_type": "code",
   "execution_count": 14,
   "metadata": {},
   "outputs": [
    {
     "data": {
      "text/plain": [
       "Text(0.01, 0.3966171439216064, 'statewide return rate')"
      ]
     },
     "execution_count": 14,
     "metadata": {},
     "output_type": "execute_result"
    }
   ],
   "source": [
    "fig2, ax2 = plt.subplots()\n",
    "trend = (merged_with_results['D_margin_22'] - merged_with_results['D_margin_20']) \\\n",
    "    - (WISC_2022_TWO_PARTY_VOTE - WISC_2020_TWO_PARTY_VOTE)\n",
    "ax2.scatter(\n",
    "    trend * 100,\n",
    "    merged_with_results['returned_rate'], \n",
    "    s=merged_with_results['BallotsReturned'] / 10,\n",
    "    alpha=0.35,\n",
    "    c=trend,\n",
    "    cmap=CMAP,\n",
    "    norm=mpl.colors.Normalize(-0.1, 0.1)\n",
    ")\n",
    "ax2.axvline(0, color='black', lw=0.5)\n",
    "ax2.axhline(statewide_return_rate, color='red', lw=0.5)\n",
    "ax2.set_xlim(-10, 10)\n",
    "ax2.set_ylim(0, 1.2)\n",
    "ax2.set_xlabel('2020 president - 2022 governor trend, %')\n",
    "ax2.set_ylabel('Ballots returned / ballots returned the 2022 fall election')\n",
    "ax2.set_title('Return rate over 2020 - 2022 trend by municipality\\n(area proportonal to 2023 ballots returned)')\n",
    "ax2.text(0.01, statewide_return_rate / 1.2, 'statewide return rate', ha='left', va='bottom', transform=ax2.transAxes)"
   ]
  },
  {
   "cell_type": "code",
   "execution_count": 15,
   "metadata": {},
   "outputs": [
    {
     "data": {
      "text/plain": [
       "Text(0.01, 0.3966171439216064, 'statewide return rate')"
      ]
     },
     "execution_count": 15,
     "metadata": {},
     "output_type": "execute_result"
    }
   ],
   "source": [
    "fig3, ax3 = plt.subplots()\n",
    "ax3.scatter(\n",
    "    merged_with_results['D_vote_margin_22'],\n",
    "    merged_with_results['returned_rate'], \n",
    "    s=merged_with_results['BallotsReturned'] / 10,\n",
    "    alpha=0.35,\n",
    "    c=merged_with_results['D_vote_margin_22'],\n",
    "    cmap=CMAP,\n",
    "    norm=mpl.colors.SymLogNorm(100, vmin=-1000000, vmax=1000000)\n",
    ")\n",
    "ax3.axvline(0, color='black', lw=0.5)\n",
    "ax3.axhline(statewide_return_rate, color='red', lw=0.5)\n",
    "#ax3.set_xlim(-10000, 1000000)\n",
    "ax3.set_xscale('symlog', linthresh=1000)\n",
    "ax3.set_ylim(0, 1.2)\n",
    "ax3.set_xlabel('2022 raw vote margin')\n",
    "ax3.set_ylabel('Ballots returned / ballots returned the 2022 fall election')\n",
    "ax3.set_title('Return rate over 2022 governor Democratic raw vote margin by municipality\\n(area proportonal to 2023 ballots returned)')\n",
    "ax3.text(0.01, statewide_return_rate / 1.2, 'statewide return rate', ha='left', va='bottom', transform=ax3.transAxes)"
   ]
  },
  {
   "cell_type": "code",
   "execution_count": 16,
   "metadata": {},
   "outputs": [
    {
     "data": {
      "text/plain": [
       "count     1901.000000\n",
       "mean        37.395055\n",
       "std        825.659071\n",
       "min     -35127.000000\n",
       "25%         13.000000\n",
       "50%         35.000000\n",
       "75%         71.000000\n",
       "max       1357.000000\n",
       "dtype: float64"
      ]
     },
     "execution_count": 16,
     "metadata": {},
     "output_type": "execute_result"
    }
   ],
   "source": [
    "(merged_with_results['D_vote_margin_22'] - merged_with_results['D_vote_margin_20']).describe()"
   ]
  },
  {
   "cell_type": "code",
   "execution_count": 17,
   "metadata": {},
   "outputs": [
    {
     "data": {
      "text/plain": [
       "Text(0.01, 0.3966171439216064, 'statewide return rate')"
      ]
     },
     "execution_count": 17,
     "metadata": {},
     "output_type": "execute_result"
    }
   ],
   "source": [
    "fig4, ax4 = plt.subplots()\n",
    "ax4.scatter(\n",
    "    merged_with_results['D_vote_margin_22'] - merged_with_results['D_vote_margin_20'],\n",
    "    merged_with_results['returned_rate'], \n",
    "    s=merged_with_results['BallotsReturned'] / 10,\n",
    "    alpha=0.35,\n",
    "    c=merged_with_results['D_margin_22'],\n",
    "    cmap=CMAP,\n",
    "    norm=mpl.colors.Normalize(-1, 1)\n",
    ")\n",
    "ax4.axvline(0, color='black', lw=0.5)\n",
    "ax4.axhline(statewide_return_rate, color='red', lw=0.5)\n",
    "#ax4.set_xlim(-100000, 10000)\n",
    "ax4.set_xscale('symlog', linthresh=100)\n",
    "ax4.set_ylim(0, 1.2)\n",
    "ax4.set_xlabel('Change in raw vote margin, 2020 president - 2022 governor')\n",
    "ax4.set_ylabel('Ballots returned / ballots returned the 2022 fall election')\n",
    "ax4.set_title('Return rate over change in Democratic raw vote margin, 2020 - 2022 by municipality\\n(area proportonal to 2023 ballots returned, colored by 2022 governor result)')\n",
    "ax4.text(0.01, statewide_return_rate / 1.2, 'statewide return rate', ha='left', va='bottom', transform=ax4.transAxes)"
   ]
  },
  {
   "cell_type": "code",
   "execution_count": 18,
   "metadata": {},
   "outputs": [],
   "source": [
    "for i, fig in enumerate((fig1, fig2, fig3, fig4)):\n",
    "    fig.set_size_inches(12, 8)\n",
    "    fig.text(0.01, 0.01, SIGNATURE)\n",
    "\n",
    "    fig.savefig(f'output/scatter_{i}.png', dpi='figure')"
   ]
  },
  {
   "cell_type": "code",
   "execution_count": 19,
   "metadata": {},
   "outputs": [
    {
     "data": {
      "text/html": [
       "<div>\n",
       "<style scoped>\n",
       "    .dataframe tbody tr th:only-of-type {\n",
       "        vertical-align: middle;\n",
       "    }\n",
       "\n",
       "    .dataframe tbody tr th {\n",
       "        vertical-align: top;\n",
       "    }\n",
       "\n",
       "    .dataframe thead th {\n",
       "        text-align: right;\n",
       "    }\n",
       "</style>\n",
       "<table border=\"1\" class=\"dataframe\">\n",
       "  <thead>\n",
       "    <tr style=\"text-align: right;\">\n",
       "      <th></th>\n",
       "      <th>OBJECTID</th>\n",
       "      <th>CNTY_FIPS</th>\n",
       "      <th>CNTY_NAME</th>\n",
       "      <th>COUSUBFP</th>\n",
       "      <th>MCD_FIPS</th>\n",
       "      <th>MCD_NAME</th>\n",
       "      <th>CTV</th>\n",
       "      <th>WARD_FIPS</th>\n",
       "      <th>WARDID</th>\n",
       "      <th>SUPERID</th>\n",
       "      <th>...</th>\n",
       "      <th>Total Votes Cast_20</th>\n",
       "      <th>DEM_20</th>\n",
       "      <th>REP_20</th>\n",
       "      <th>Total Votes Cast_22</th>\n",
       "      <th>DEM_22</th>\n",
       "      <th>REP_22</th>\n",
       "      <th>D_margin_20</th>\n",
       "      <th>D_margin_22</th>\n",
       "      <th>D_vote_margin_20</th>\n",
       "      <th>D_vote_margin_22</th>\n",
       "    </tr>\n",
       "  </thead>\n",
       "  <tbody>\n",
       "    <tr>\n",
       "      <th>1177</th>\n",
       "      <td>1185</td>\n",
       "      <td>55089</td>\n",
       "      <td>OZAUKEE</td>\n",
       "      <td>13375</td>\n",
       "      <td>5508913375</td>\n",
       "      <td>Cedarburg</td>\n",
       "      <td>C</td>\n",
       "      <td>None</td>\n",
       "      <td>None</td>\n",
       "      <td>None</td>\n",
       "      <td>...</td>\n",
       "      <td>8193</td>\n",
       "      <td>4032</td>\n",
       "      <td>4013</td>\n",
       "      <td>7213</td>\n",
       "      <td>3564</td>\n",
       "      <td>3585</td>\n",
       "      <td>0.002362</td>\n",
       "      <td>-0.002937</td>\n",
       "      <td>19</td>\n",
       "      <td>-21</td>\n",
       "    </tr>\n",
       "    <tr>\n",
       "      <th>1178</th>\n",
       "      <td>1186</td>\n",
       "      <td>55089</td>\n",
       "      <td>OZAUKEE</td>\n",
       "      <td>13400</td>\n",
       "      <td>5508913400</td>\n",
       "      <td>Cedarburg</td>\n",
       "      <td>T</td>\n",
       "      <td>None</td>\n",
       "      <td>None</td>\n",
       "      <td>None</td>\n",
       "      <td>...</td>\n",
       "      <td>4544</td>\n",
       "      <td>1653</td>\n",
       "      <td>2832</td>\n",
       "      <td>3938</td>\n",
       "      <td>1425</td>\n",
       "      <td>2483</td>\n",
       "      <td>-0.262876</td>\n",
       "      <td>-0.270727</td>\n",
       "      <td>-1179</td>\n",
       "      <td>-1058</td>\n",
       "    </tr>\n",
       "  </tbody>\n",
       "</table>\n",
       "<p>2 rows × 50 columns</p>\n",
       "</div>"
      ],
      "text/plain": [
       "      OBJECTID CNTY_FIPS CNTY_NAME COUSUBFP    MCD_FIPS   MCD_NAME CTV  \\\n",
       "1177      1185     55089   OZAUKEE    13375  5508913375  Cedarburg   C   \n",
       "1178      1186     55089   OZAUKEE    13400  5508913400  Cedarburg   T   \n",
       "\n",
       "     WARD_FIPS WARDID SUPERID  ... Total Votes Cast_20 DEM_20 REP_20  \\\n",
       "1177      None   None    None  ...                8193   4032   4013   \n",
       "1178      None   None    None  ...                4544   1653   2832   \n",
       "\n",
       "     Total Votes Cast_22 DEM_22 REP_22 D_margin_20 D_margin_22  \\\n",
       "1177                7213   3564   3585    0.002362   -0.002937   \n",
       "1178                3938   1425   2483   -0.262876   -0.270727   \n",
       "\n",
       "     D_vote_margin_20 D_vote_margin_22  \n",
       "1177               19              -21  \n",
       "1178            -1179            -1058  \n",
       "\n",
       "[2 rows x 50 columns]"
      ]
     },
     "execution_count": 19,
     "metadata": {},
     "output_type": "execute_result"
    }
   ],
   "source": [
    "merged_with_results[merged_with_results['jurisdiction'] == 'Cedarburg']"
   ]
  }
 ],
 "metadata": {
  "kernelspec": {
   "display_name": "Python 3",
   "language": "python",
   "name": "python3"
  },
  "language_info": {
   "codemirror_mode": {
    "name": "ipython",
    "version": 3
   },
   "file_extension": ".py",
   "mimetype": "text/x-python",
   "name": "python",
   "nbconvert_exporter": "python",
   "pygments_lexer": "ipython3",
   "version": "3.10.10"
  },
  "orig_nbformat": 4
 },
 "nbformat": 4,
 "nbformat_minor": 2
}
