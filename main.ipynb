{
 "cells": [
  {
   "cell_type": "code",
   "execution_count": null,
   "metadata": {},
   "outputs": [
    {
     "ename": "",
     "evalue": "",
     "output_type": "error",
     "traceback": [
      "\u001b[1;31mThe Kernel crashed while executing code in the the current cell or a previous cell. Please review the code in the cell(s) to identify a possible cause of the failure. Click <a href='https://aka.ms/vscodeJupyterKernelCrash'>here</a> for more info. View Jupyter <a href='command:jupyter.viewOutput'>log</a> for further details."
     ]
    },
    {
     "ename": "",
     "evalue": "",
     "output_type": "error",
     "traceback": [
      "\u001b[1;31mCanceled future for execute_request message before replies were done"
     ]
    }
   ],
   "source": [
    "%matplotlib tk\n",
    "\n",
    "from datetime import date, datetime, timedelta\n",
    "import pandas as pd\n",
    "import geopandas as gpd\n",
    "import requests\n",
    "from io import StringIO\n",
    "import matplotlib as mpl\n",
    "import matplotlib.pyplot as plt\n",
    "import numpy as np\n",
    "import imageio.v2 as imageio\n",
    "from bs4 import BeautifulSoup\n",
    "from urllib.parse import urljoin\n",
    "import os"
   ]
  },
  {
   "cell_type": "code",
   "execution_count": null,
   "metadata": {},
   "outputs": [],
   "source": [
    "VMIN = 0\n",
    "VMAX = 1\n",
    "\n",
    "SIGNATURE = 'By Will Bradley, 2023' "
   ]
  },
  {
   "cell_type": "code",
   "execution_count": null,
   "metadata": {},
   "outputs": [],
   "source": [
    "def _get_urls(base_scrape_url: str, start_date: date, end_date: date) -> list[tuple[date, str]]:\n",
    "    scraping_url_index = -1\n",
    "\n",
    "    out: list[tuple[date, str]] = []\n",
    "    for days_delta in range((end_date - start_date).days + 1):\n",
    "        target_date = start_date + timedelta(days=days_delta)\n",
    "        while True:\n",
    "            scraping_url_suffix = \"\" if scraping_url_index == -1 else f\"-{scraping_url_index}\"\n",
    "            scraping_url = base_scrape_url + scraping_url_suffix\n",
    "            response = requests.get(scraping_url)\n",
    "            \n",
    "            try:\n",
    "                response.raise_for_status()\n",
    "            except requests.HTTPError:\n",
    "                print(target_date, scraping_url, response)\n",
    "                scraping_url_index += 1\n",
    "                continue\n",
    "\n",
    "            soup = BeautifulSoup(response.text)\n",
    "\n",
    "            datetime_element = soup.select_one('time.datetime[datetime]')\n",
    "            datetime_str: str = datetime_element['datetime']\n",
    "            date_ = datetime.strptime(datetime_str, r'%Y-%m-%dT%H:%M:%SZ').date()\n",
    "\n",
    "            if date_ == target_date:\n",
    "                csv_elements = soup.select(\"a[type='text/csv']\")\n",
    "                csv_url_part: str = csv_elements[1]['href']\n",
    "                csv_url = urljoin(scraping_url, csv_url_part)\n",
    "\n",
    "                out.append((target_date, csv_url))\n",
    "                break\n",
    "        scraping_url_index += 1\n",
    "\n",
    "    return out\n",
    "    \n",
    "    "
   ]
  },
  {
   "cell_type": "code",
   "execution_count": null,
   "metadata": {},
   "outputs": [],
   "source": [
    "# Galen Metzger suggested using 2022 ballots returned to normalize instead of voter registration\n",
    "ballots_2022_df = pd.read_csv('AbsenteeCounts_Muni__25.csv', index_col='HINDI', usecols=['BallotsReturned', 'HINDI'])\\\n",
    "    .rename(columns={'BallotsReturned': 'BallotsReturned2022'})\\\n",
    "    .drop(99999) # TOTAL column"
   ]
  },
  {
   "cell_type": "code",
   "execution_count": null,
   "metadata": {},
   "outputs": [],
   "source": [
    "gdf = gpd.read_file('WI_Cities%2C_Towns_and_Villages_(January_2023)') # https://data-ltsb.opendata.arcgis.com/datasets/2d13492a59a24dd0ba990abf1f86800f_0/explore?location=43.322926%2C-89.269110%2C8.58"
   ]
  },
  {
   "cell_type": "code",
   "execution_count": null,
   "metadata": {},
   "outputs": [],
   "source": [
    "plt.close('all')"
   ]
  },
  {
   "cell_type": "code",
   "execution_count": null,
   "metadata": {},
   "outputs": [],
   "source": [
    "fnames: list[str] = []"
   ]
  },
  {
   "cell_type": "markdown",
   "metadata": {},
   "source": []
  },
  {
   "cell_type": "code",
   "execution_count": null,
   "metadata": {},
   "outputs": [
    {
     "name": "stdout",
     "output_type": "stream",
     "text": [
      "2023-03-29 https://elections.wi.gov/resources/statistics/absentee-ballot-report-april-4-2023-spring-election-8 <Response [403]>\n"
     ]
    }
   ],
   "source": [
    "urls_2023 = _get_urls(\n",
    "    'https://elections.wi.gov/resources/statistics/absentee-ballot-report-april-4-2023-spring-election',\n",
    "    date(2023, 3, 20),\n",
    "    date.today()\n",
    ")"
   ]
  },
  {
   "cell_type": "code",
   "execution_count": null,
   "metadata": {},
   "outputs": [],
   "source": [
    "OUTPUT_DIR = 'output'"
   ]
  },
  {
   "cell_type": "code",
   "execution_count": null,
   "metadata": {},
   "outputs": [
    {
     "name": "stdout",
     "output_type": "stream",
     "text": [
      "2023-03-20 https://elections.wi.gov/sites/default/files/documents/AbsenteeCounts_Muni_2023%20Spring%20Election.csv missing because of merge: 92 median `returned_rate`: 0.0\n",
      "2023-03-21 https://elections.wi.gov/sites/default/files/documents/AbsenteeCounts_Muni_2023%20Spring%20Election_0.csv missing because of merge: 90 median `returned_rate`: 0.0\n",
      "2023-03-22 https://elections.wi.gov/sites/default/files/documents/AbsenteeCounts_Muni_2023%20Spring%20Election_1.csv missing because of merge: 90 median `returned_rate`: 0.05\n",
      "2023-03-23 https://elections.wi.gov/sites/default/files/documents/AbsenteeCounts_Muni_2023%20Spring%20Election_2.csv missing because of merge: 88 median `returned_rate`: 0.0975609756097561\n",
      "2023-03-24 https://elections.wi.gov/sites/default/files/documents/AbsenteeCounts_Muni_2023%20Spring%20Election_3.csv missing because of merge: 88 median `returned_rate`: 0.15\n",
      "2023-03-25 https://elections.wi.gov/sites/default/files/documents/AbsenteeCounts_Muni_2023%20Spring%20Election_4.csv missing because of merge: 87 median `returned_rate`: 0.18832866595035852\n",
      "2023-03-26 https://elections.wi.gov/sites/default/files/documents/AbsenteeCounts_Muni_2023%20Spring%20Election_5.csv missing because of merge: 87 median `returned_rate`: 0.19559416070712826\n",
      "2023-03-27 https://elections.wi.gov/sites/default/files/documents/AbsenteeCounts_Muni_2023%20Spring%20Election_6.csv missing because of merge: 87 median `returned_rate`: 0.20040485829959515\n",
      "2023-03-28 https://elections.wi.gov/sites/default/files/documents/AbsenteeCounts_Muni_2023%20Spring%20Election_7.csv missing because of merge: 85 median `returned_rate`: 0.28343458595559434\n",
      "2023-03-29 https://elections.wi.gov/sites/default/files/documents/AbsenteeCounts_Muni_2023%20Spring%20Election_9.csv missing because of merge: 85 median `returned_rate`: 0.33192193855370744\n",
      "2023-03-30 https://elections.wi.gov/sites/default/files/documents/AbsenteeCounts_Muni_2023%20Spring%20Election_10.csv missing because of merge: 85 median `returned_rate`: 0.38268156424581007\n",
      "2023-03-31 https://elections.wi.gov/sites/default/files/documents/AbsenteeCounts_Muni_2023%20Spring%20Election_11.csv missing because of merge: 84 median `returned_rate`: 0.43928270550006016\n",
      "2023-04-01 https://elections.wi.gov/sites/default/files/documents/AbsenteeCounts_Muni_2023%20Spring%20Election_13.csv missing because of merge: 84 median `returned_rate`: 0.49534450651769085\n",
      "2023-04-02 https://elections.wi.gov/sites/default/files/documents/AbsenteeCounts_Muni_2023%20Spring%20Election_14.csv missing because of merge: 83 median `returned_rate`: 0.5\n",
      "2023-04-03 https://elections.wi.gov/sites/default/files/documents/AbsenteeCounts_Muni_2023%20Spring%20Election_15.csv missing because of merge: 83 median `returned_rate`: 0.5\n"
     ]
    }
   ],
   "source": [
    "for i, (date_, url) in enumerate(urls_2023):\n",
    "    ballots_df = pd.read_csv(StringIO(requests.get(url).text))\n",
    "    voting_merged_df = pd.merge(ballots_df, ballots_2022_df, on='HINDI')\n",
    "    voting_merged_df['HINDI'] = voting_merged_df['HINDI'].apply(lambda n: str(n).zfill(5))\n",
    "\n",
    "    merged = gdf.merge(voting_merged_df, left_on='DOA', right_on='HINDI', how='left')\n",
    "    merged.set_index('GEOID', drop=True, inplace=True)\n",
    "    \n",
    "    merged['returned_rate'] = merged['BallotsReturned'] / merged['BallotsReturned2022']\n",
    "\n",
    "    missing_merge = merged['BallotsReturned'].isna().sum()\n",
    "    print(\n",
    "        date_, \n",
    "        url,\n",
    "        \"missing because of merge:\", missing_merge, \n",
    "        \"median `returned_rate`:\", merged['returned_rate'].median()\n",
    "    )\n",
    "\n",
    "    CMAP = plt.get_cmap('YlGn')\n",
    "\n",
    "    plot = merged.plot(\n",
    "        'returned_rate', \n",
    "        legend=True, \n",
    "        cmap=CMAP,\n",
    "        norm=mpl.colors.BoundaryNorm(np.linspace(VMIN, VMAX, 101), CMAP.N), \n",
    "        missing_kwds={'color': 'gray'}, \n",
    "        legend_kwds={\n",
    "            'label': 'Ballots returned as of March 1, 2023,\\nnormalized to total (mail) ballots returned in 2022 general', \n",
    "            'shrink': 0.7, \n",
    "            'ticks': np.linspace(VMIN, VMAX, 11)\n",
    "        }, \n",
    "        lw=0.2, \n",
    "        ec='black'\n",
    "    )\n",
    "    plt.axis('off')\n",
    "\n",
    "    fig = plt.gcf()\n",
    "    fig.set_size_inches(8, 8)\n",
    "    fig.text(0.05, 0.05, SIGNATURE)\n",
    "    \n",
    "\n",
    "    ax = plt.gca()\n",
    "    ax.set_title(f\"Wisconsin 2023 spring election turnout by municipality, {date_.isoformat()}\")\n",
    "\n",
    "    cbar = ax.get_figure().get_axes()[1]\n",
    "    cbar.minorticks_off()\n",
    "\n",
    "    fname = f\"{OUTPUT_DIR}/early_vote_{date_.isoformat()} (Day {str(i + 1).zfill(2)}).png\"\n",
    "    fig.savefig(fname, transparent=False, dpi=1000, bbox_inches='tight')\n",
    "    fnames.append(fname)\n"
   ]
  },
  {
   "cell_type": "code",
   "execution_count": null,
   "metadata": {},
   "outputs": [],
   "source": [
    "OUT_PATH = f'{OUTPUT_DIR}/election.gif'\n",
    "durations = [0.75 for _ in fnames]\n",
    "durations[-1] = 3\n",
    "\n",
    "with imageio.get_writer(OUT_PATH, mode='I', duration=durations) as writer:\n",
    "    for fname in fnames:\n",
    "        image = imageio.imread(fname)\n",
    "        writer.append_data(image)\n",
    "        "
   ]
  },
  {
   "cell_type": "code",
   "execution_count": null,
   "metadata": {},
   "outputs": [
    {
     "name": "stdout",
     "output_type": "stream",
     "text": [
      "0.1898089811763776\n"
     ]
    },
    {
     "data": {
      "text/plain": [
       "0"
      ]
     },
     "execution_count": 12,
     "metadata": {},
     "output_type": "execute_result"
    }
   ],
   "source": [
    "TARGET_FILE_SIZE = 5E6\n",
    "current_file_size = os.path.getsize(OUT_PATH)\n",
    "shrink_ratio = min(TARGET_FILE_SIZE / current_file_size, 1)\n",
    "print(shrink_ratio)\n",
    "os.system(f\"convert {OUT_PATH} -scale {shrink_ratio * 100}% {OUT_PATH}_shrunk.gif\")"
   ]
  }
 ],
 "metadata": {
  "kernelspec": {
   "display_name": "Python 3",
   "language": "python",
   "name": "python3"
  },
  "language_info": {
   "codemirror_mode": {
    "name": "ipython",
    "version": 3
   },
   "file_extension": ".py",
   "mimetype": "text/x-python",
   "name": "python",
   "nbconvert_exporter": "python",
   "pygments_lexer": "ipython3",
   "version": "3.10.10"
  },
  "orig_nbformat": 4
 },
 "nbformat": 4,
 "nbformat_minor": 2
}
